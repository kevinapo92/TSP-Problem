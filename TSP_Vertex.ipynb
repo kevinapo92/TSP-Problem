{
 "cells": [
  {
   "cell_type": "code",
   "execution_count": 1,
   "id": "ed4bef04",
   "metadata": {},
   "outputs": [],
   "source": [
    "import cplex\n",
    "import pandas as pd\n",
    "import itertools"
   ]
  },
  {
   "cell_type": "markdown",
   "id": "7b2332c7",
   "metadata": {},
   "source": [
    "### Parameters"
   ]
  },
  {
   "cell_type": "code",
   "execution_count": 2,
   "id": "efda95f9",
   "metadata": {},
   "outputs": [],
   "source": [
    "vertex_set, subsets = set(), {}"
   ]
  },
  {
   "cell_type": "code",
   "execution_count": 3,
   "id": "e976d0ac",
   "metadata": {},
   "outputs": [],
   "source": [
    "# class to create vertices as objects\n",
    "class vertex:\n",
    "    def __init__(self, id, index):\n",
    "        self.id = id\n",
    "        self.index = index\n",
    "        self.distance = {} #dict distances between other vertices\n",
    "    \n",
    "    def __str__(self):\n",
    "        return self.id"
   ]
  },
  {
   "cell_type": "markdown",
   "id": "3692dfa5",
   "metadata": {},
   "source": [
    "We need a function or functions to generate vertex objects, set the distances and find all of the subsets needed in constraints"
   ]
  },
  {
   "cell_type": "code",
   "execution_count": 4,
   "id": "a003ee54",
   "metadata": {},
   "outputs": [],
   "source": [
    "def create_distances(dist_matrix):\n",
    "    \n",
    "    global vertex_set, subsets #Global variables can be used by everyone, both inside of functions and outside\n",
    "    \n",
    "    for i in range(len(dist_matrix)):\n",
    "        vertex_set.add(vertex(id = 'v_' + str(i) , index = i)) #create al the vertices using the matrix of distances\n",
    "        \n",
    "    for i in vertex_set:\n",
    "        for j in vertex_set:\n",
    "            if j is not i :\n",
    "                i.distance[j] = dist_matrix[i.index][j.index] #fill the dict distances of each vertex\n",
    "                \n",
    "    for n in range(2, len(vertex_set)):\n",
    "        subsets[n] = set(itertools.combinations(vertex_set,n))  #itertools.combinations(iterable, r-length)\n",
    "                                                                #return r-length tuples in sorted order with no repeated elements"
   ]
  },
  {
   "cell_type": "markdown",
   "id": "1547e679",
   "metadata": {},
   "source": [
    "creation of vertices"
   ]
  },
  {
   "cell_type": "code",
   "execution_count": 5,
   "id": "cf62bc7b",
   "metadata": {},
   "outputs": [],
   "source": [
    "distances = pd.read_excel('TSP_input.xlsx',index_col=0)\n",
    "dist_matrix = distances.values.tolist()\n",
    "create_distances(dist_matrix)"
   ]
  },
  {
   "cell_type": "markdown",
   "id": "898a96cc",
   "metadata": {},
   "source": [
    "### Objective Function "
   ]
  },
  {
   "cell_type": "code",
   "execution_count": 6,
   "id": "1d2c4da6",
   "metadata": {},
   "outputs": [],
   "source": [
    "cpx=cplex.Cplex()\n",
    "cpx.objective.set_sense(cpx.objective.sense.minimize)"
   ]
  },
  {
   "cell_type": "markdown",
   "id": "ecbdb206",
   "metadata": {},
   "source": [
    "### Decision Variables"
   ]
  },
  {
   "attachments": {
    "image.png": {
     "image/png": "[encoded data removed]"
    }
   },
   "cell_type": "markdown",
   "id": "f8e97ec9",
   "metadata": {},
   "source": [
    "![image.png](attachment:image.png)"
   ]
  },
  {
   "cell_type": "code",
   "execution_count": 7,
   "id": "3a345690",
   "metadata": {},
   "outputs": [],
   "source": [
    "x = { i : { j : 'x_' + str(i) + '_' + str(j) for j in range(len(vertex_set))} for i in range(len(vertex_set))}"
   ]
  },
  {
   "attachments": {
    "image.png": {
     "image/png": "[encoded data removed]"
    }
   },
   "cell_type": "markdown",
   "id": "e0c826f1",
   "metadata": {},
   "source": [
    "![image.png](attachment:image.png) "
   ]
  },
  {
   "cell_type": "code",
   "execution_count": 8,
   "id": "42b74e72",
   "metadata": {},
   "outputs": [],
   "source": [
    "for i in vertex_set:\n",
    "    for j in vertex_set:\n",
    "        if j.index != i.index: # to avoid the double entry error\n",
    "            cpx.variables.add(obj=[i.distance[j]], types = ['B'], names = [x[i.index][j.index]])"
   ]
  },
  {
   "cell_type": "markdown",
   "id": "ab191b4b",
   "metadata": {},
   "source": [
    "### Constraints "
   ]
  },
  {
   "attachments": {
    "image.png": {
     "image/png": "[encoded data removed]"
    }
   },
   "cell_type": "markdown",
   "id": "8e6216ec",
   "metadata": {},
   "source": [
    "![image.png](attachment:image.png)"
   ]
  },
  {
   "cell_type": "code",
   "execution_count": 9,
   "id": "5ce57e6e",
   "metadata": {},
   "outputs": [],
   "source": [
    "for i in vertex_set:\n",
    "    coef_1, var_1 = [], []\n",
    "    for j in vertex_set:\n",
    "        if j.index != i.index:\n",
    "            coef_1.append(1)\n",
    "            var_1.append(x[i.index][j.index])\n",
    "    cpx.linear_constraints.add(lin_expr = [[var_1, coef_1]], senses = ['E'], rhs = [1])"
   ]
  },
  {
   "attachments": {
    "image.png": {
     "image/png": "[encoded data removed]"
    }
   },
   "cell_type": "markdown",
   "id": "97a3692f",
   "metadata": {},
   "source": [
    "![image.png](attachment:image.png)"
   ]
  },
  {
   "cell_type": "code",
   "execution_count": 10,
   "id": "f73bef96",
   "metadata": {},
   "outputs": [],
   "source": [
    "for j in vertex_set:\n",
    "    coef_2, var_2 = [], []\n",
    "    for i in vertex_set:\n",
    "        if j.index != i.index:\n",
    "            coef_2.append(1)\n",
    "            var_2.append(x[i.index][j.index])\n",
    "    cpx.linear_constraints.add(lin_expr = [[var_2, coef_2]], senses = ['E'], rhs = [1]) "
   ]
  },
  {
   "attachments": {
    "image.png": {
     "image/png": "[encoded data removed]"
    }
   },
   "cell_type": "markdown",
   "id": "998ec085",
   "metadata": {},
   "source": [
    "![image.png](attachment:image.png)"
   ]
  },
  {
   "cell_type": "code",
   "execution_count": 11,
   "id": "b004992d",
   "metadata": {},
   "outputs": [],
   "source": [
    "for l in range(2,len(vertex_set)):\n",
    "    for s in subsets[l]:\n",
    "        var_3 = []\n",
    "        coef_3 = []\n",
    "        for i in s:\n",
    "            for j in vertex_set:\n",
    "                if j.index != i.index:\n",
    "                    set_j = set()\n",
    "                    set_j.add(j)\n",
    "                    z = set_j.issubset(s) # if vertex j is an element of subset s, z = True\n",
    "                    if z is False: #if j is not an element of subset s, add the decision variable\n",
    "                        var_3.append(x[i.index][j.index])\n",
    "                        coef_3.append(1)\n",
    "        cpx.linear_constraints.add(lin_expr=[[var_3, coef_3]], senses=[\"G\"], rhs=[1]) "
   ]
  },
  {
   "cell_type": "markdown",
   "id": "455af4a4",
   "metadata": {},
   "source": [
    "### Solve"
   ]
  },
  {
   "cell_type": "code",
   "execution_count": 12,
   "id": "e1958520",
   "metadata": {},
   "outputs": [
    {
     "name": "stdout",
     "output_type": "stream",
     "text": [
      "Version identifier: 22.1.0.0 | 2022-03-09 | 1a383f8ce\n",
      "CPXPARAM_Read_DataCheck                          1\n",
      "Tried aggregator 1 time.\n",
      "MIP Presolve eliminated 13 rows and 0 columns.\n",
      "Reduced MIP has 8190 rows, 156 columns, and 319488 nonzeros.\n",
      "Reduced MIP has 156 binaries, 0 generals, 0 SOSs, and 0 indicators.\n",
      "Presolve time = 0.23 sec. (118.55 ticks)\n",
      "Probing time = 0.02 sec. (3.28 ticks)\n",
      "Tried aggregator 1 time.\n",
      "Detecting symmetries...\n",
      "Reduced MIP has 8190 rows, 156 columns, and 319488 nonzeros.\n",
      "Reduced MIP has 156 binaries, 0 generals, 0 SOSs, and 0 indicators.\n",
      "Presolve time = 0.16 sec. (128.64 ticks)\n",
      "Probing time = 0.02 sec. (3.88 ticks)\n",
      "Clique table members: 26.\n",
      "MIP emphasis: balance optimality and feasibility.\n",
      "MIP search method: dynamic search.\n",
      "Parallel mode: deterministic, using up to 8 threads.\n",
      "Root relaxation solution time = 0.17 sec. (48.10 ticks)\n",
      "\n",
      "        Nodes                                         Cuts/\n",
      "   Node  Left     Objective  IInf  Best Integer    Best Bound    ItCnt     Gap\n",
      "\n",
      "*     0+    0                        16707.0000        0.0000           100.00%\n",
      "*     0     0      integral     0     7293.0000     7293.0000       49    0.00%\n",
      "Elapsed time = 1.39 sec. (502.71 ticks, tree = 0.00 MB, solutions = 2)\n",
      "\n",
      "Root node processing (before b&c):\n",
      "  Real time             =    1.58 sec. (502.75 ticks)\n",
      "Parallel b&c, 8 threads:\n",
      "  Real time             =    0.00 sec. (0.00 ticks)\n",
      "  Sync time (average)   =    0.00 sec.\n",
      "  Wait time (average)   =    0.00 sec.\n",
      "                          ------------\n",
      "Total (root+branch&cut) =    1.58 sec. (502.75 ticks)\n",
      "\n",
      "Solution status =  101 : MIP_optimal\n",
      "Solution value  =  7293.0\n",
      "\n"
     ]
    }
   ],
   "source": [
    "cpx.solve()\n",
    "print()\n",
    "print(\"Solution status = \", cpx.solution.get_status(), \":\", end=' ')\n",
    "print(cpx.solution.status[cpx.solution.get_status()])\n",
    "print(\"Solution value  = \", cpx.solution.get_objective_value())\n",
    "print()"
   ]
  },
  {
   "cell_type": "code",
   "execution_count": 15,
   "id": "90fdded9",
   "metadata": {},
   "outputs": [
    {
     "data": {
      "text/plain": [
       "[[9, 0],\n",
       " [5, 9],\n",
       " [12, 6],\n",
       " [0, 7],\n",
       " [10, 5],\n",
       " [1, 11],\n",
       " [6, 8],\n",
       " [8, 1],\n",
       " [11, 10],\n",
       " [7, 2],\n",
       " [2, 3],\n",
       " [4, 12],\n",
       " [3, 4]]"
      ]
     },
     "execution_count": 15,
     "metadata": {},
     "output_type": "execute_result"
    }
   ],
   "source": [
    "solution = []\n",
    "for i in vertex_set:\n",
    "\tfor j in vertex_set:\n",
    "\t\tif j.index != i.index:\n",
    "\t\t\tif cpx.solution.get_values(x[i.index][j.index]) > 0:\n",
    "\t\t\t\tnew_edge = [i.index, j.index]\n",
    "\t\t\t\tsolution.append(new_edge)\n",
    "                \n",
    "solution"
   ]
  },
  {
   "cell_type": "markdown",
   "id": "e6848f45",
   "metadata": {},
   "source": [
    "Print Solution "
   ]
  },
  {
   "cell_type": "code",
   "execution_count": 16,
   "id": "38921ccc",
   "metadata": {},
   "outputs": [
    {
     "name": "stdout",
     "output_type": "stream",
     "text": [
      "\n",
      "[[9, 0], [0, 7], [7, 2], [2, 3], [3, 4], [4, 12], [12, 6], [6, 8], [8, 1], [1, 11], [11, 10], [10, 5], [5, 9]]\n",
      "Optimal route:\n",
      "1 --> 8 --> 3 --> 4 --> 5 --> 13 --> 7 --> 9 --> 2 --> 12 --> 11 --> 6 --> 10 --> 1\n"
     ]
    }
   ],
   "source": [
    "TSP_route = []\n",
    "TSP_route.append(solution[0]) # start from the first edge in the solution\n",
    "to_go = TSP_route[0][1] #second vertix\n",
    "a = 0\n",
    "\n",
    "while a < len(solution) - 1:\n",
    "    for b in range(1, len(solution)):\n",
    "        if solution[b][0] == to_go:\n",
    "            TSP_route.append(solution[b])\n",
    "            to_go = solution[b][1]\n",
    "    a += 1\n",
    "    \n",
    "print()\n",
    "print(TSP_route)\n",
    "print(\"Optimal route:\")\n",
    "for i in range(len(TSP_route) - 1):\n",
    "    print(str(TSP_route[i][1] + 1) + \" -->\", end=' ')\n",
    "print(str(TSP_route[-1][1] + 1) + \" --> \" + str(TSP_route[0][1] + 1))"
   ]
  },
  {
   "cell_type": "code",
   "execution_count": null,
   "id": "c7dfb6d1",
   "metadata": {},
   "outputs": [],
   "source": []
  }
 ],
 "metadata": {
  "kernelspec": {
   "display_name": "cplex_py38",
   "language": "python",
   "name": "cplex_py38"
  },
  "language_info": {
   "codemirror_mode": {
    "name": "ipython",
    "version": 3
   },
   "file_extension": ".py",
   "mimetype": "text/x-python",
   "name": "python",
   "nbconvert_exporter": "python",
   "pygments_lexer": "ipython3",
   "version": "3.8.13"
  }
 },
 "nbformat": 4,
 "nbformat_minor": 5
}
